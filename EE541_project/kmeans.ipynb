{
 "cells": [
  {
   "cell_type": "code",
   "execution_count": 1,
   "metadata": {},
   "outputs": [],
   "source": [
    "from zipfile import ZipFile\n",
    "\n",
    "dataset_movies= 'movies_metadata.csv.zip'\n",
    "dataset_ratings= 'ratings.csv.zip'\n",
    "\n",
    "with ZipFile('movies_metadata.csv.zip', 'r') as zip_object:\n",
    "    zip_object.extractall()\n",
    "with ZipFile('ratings.csv.zip', 'r') as zip_object:\n",
    "    zip_object.extractall()"
   ]
  },
  {
   "cell_type": "code",
   "execution_count": 29,
   "metadata": {},
   "outputs": [],
   "source": [
    "import pandas as pd\n",
    "import numpy as np\n",
    "from datetime import datetime\n",
    "from ast import literal_eval\n",
    "import seaborn as sns\n",
    "import ast\n",
    "from transformers import pipeline\n",
    "from sklearn.cluster import KMeans\n",
    "from sklearn.model_selection import train_test_split\n",
    "from sklearn.preprocessing import StandardScaler, MultiLabelBinarizer"
   ]
  },
  {
   "cell_type": "code",
   "execution_count": 3,
   "metadata": {},
   "outputs": [
    {
     "name": "stderr",
     "output_type": "stream",
     "text": [
      "/var/folders/8j/3c5nkmms65398wvv134fk5l80000gn/T/ipykernel_10639/178857410.py:1: DtypeWarning: Columns (10) have mixed types. Specify dtype option on import or set low_memory=False.\n",
      "  df_movies=pd.read_csv(\"movies_metadata.csv\")\n"
     ]
    },
    {
     "name": "stdout",
     "output_type": "stream",
     "text": [
      "(45466, 24)\n",
      "(26024289, 4)\n"
     ]
    }
   ],
   "source": [
    "df_movies=pd.read_csv(\"movies_metadata.csv\")\n",
    "print(df_movies.shape)\n",
    "df_ratings=pd.read_csv(\"ratings.csv\")\n",
    "print(df_ratings.shape)"
   ]
  },
  {
   "cell_type": "code",
   "execution_count": 67,
   "metadata": {},
   "outputs": [
    {
     "name": "stdout",
     "output_type": "stream",
     "text": [
      "<class 'pandas.core.frame.DataFrame'>\n",
      "RangeIndex: 26024289 entries, 0 to 26024288\n",
      "Data columns (total 4 columns):\n",
      " #   Column     Dtype  \n",
      "---  ------     -----  \n",
      " 0   userId     int64  \n",
      " 1   id         float64\n",
      " 2   rating     float64\n",
      " 3   timestamp  int64  \n",
      "dtypes: float64(2), int64(2)\n",
      "memory usage: 794.2 MB\n"
     ]
    }
   ],
   "source": [
    "df_ratings.info()\n"
   ]
  },
  {
   "cell_type": "code",
   "execution_count": 5,
   "metadata": {},
   "outputs": [
    {
     "name": "stdout",
     "output_type": "stream",
     "text": [
      "rating\n",
      "4.0    6998802\n",
      "3.0    5256722\n",
      "5.0    3812499\n",
      "3.5    3116213\n",
      "4.5    2170441\n",
      "2.0    1762440\n",
      "2.5    1255358\n",
      "1.0     843310\n",
      "0.5     404897\n",
      "1.5     403607\n",
      "Name: count, dtype: int64\n"
     ]
    },
    {
     "name": "stderr",
     "output_type": "stream",
     "text": [
      "/Users/rakshekarajakumar/anaconda3/envs/ee541_hw/lib/python3.11/site-packages/seaborn/_oldcore.py:1498: FutureWarning: is_categorical_dtype is deprecated and will be removed in a future version. Use isinstance(dtype, CategoricalDtype) instead\n",
      "  if pd.api.types.is_categorical_dtype(vector):\n",
      "/Users/rakshekarajakumar/anaconda3/envs/ee541_hw/lib/python3.11/site-packages/seaborn/_oldcore.py:1498: FutureWarning: is_categorical_dtype is deprecated and will be removed in a future version. Use isinstance(dtype, CategoricalDtype) instead\n",
      "  if pd.api.types.is_categorical_dtype(vector):\n",
      "/Users/rakshekarajakumar/anaconda3/envs/ee541_hw/lib/python3.11/site-packages/seaborn/_oldcore.py:1498: FutureWarning: is_categorical_dtype is deprecated and will be removed in a future version. Use isinstance(dtype, CategoricalDtype) instead\n",
      "  if pd.api.types.is_categorical_dtype(vector):\n"
     ]
    },
    {
     "data": {
      "text/plain": [
       "<Axes: xlabel='rating', ylabel='count'>"
      ]
     },
     "execution_count": 5,
     "metadata": {},
     "output_type": "execute_result"
    },
    {
     "data": {
      "image/png": "[encoded data removed]",
      "text/plain": [
       "<Figure size 640x480 with 1 Axes>"
      ]
     },
     "metadata": {},
     "output_type": "display_data"
    }
   ],
   "source": [
    "#visualizing movie ratings\n",
    "\n",
    "ratings_count=df_ratings.rating.value_counts()\n",
    "index_ratings=ratings_count.index\n",
    "print(ratings_count)\n",
    "sns.barplot(x=index_ratings, y=ratings_count)"
   ]
  },
  {
   "cell_type": "code",
   "execution_count": 43,
   "metadata": {},
   "outputs": [
    {
     "name": "stdout",
     "output_type": "stream",
     "text": [
      "<class 'pandas.core.frame.DataFrame'>\n",
      "Index: 16752 entries, 0 to 45460\n",
      "Data columns (total 6 columns):\n",
      " #   Column        Non-Null Count  Dtype  \n",
      "---  ------        --------------  -----  \n",
      " 0   id            16752 non-null  float64\n",
      " 1   title         16752 non-null  object \n",
      " 2   vote_count    16752 non-null  float64\n",
      " 3   vote_average  16752 non-null  float64\n",
      " 4   genres        16752 non-null  object \n",
      " 5   year          16752 non-null  float64\n",
      "dtypes: float64(4), object(2)\n",
      "memory usage: 916.1+ KB\n",
      "<class 'pandas.core.frame.DataFrame'>\n",
      "RangeIndex: 26024289 entries, 0 to 26024288\n",
      "Data columns (total 4 columns):\n",
      " #   Column     Dtype  \n",
      "---  ------     -----  \n",
      " 0   userId     int64  \n",
      " 1   id         float64\n",
      " 2   rating     float64\n",
      " 3   timestamp  int64  \n",
      "dtypes: float64(2), int64(2)\n",
      "memory usage: 794.2 MB\n"
     ]
    },
    {
     "data": {
      "text/plain": [
       "(None, None)"
      ]
     },
     "execution_count": 43,
     "metadata": {},
     "output_type": "execute_result"
    }
   ],
   "source": [
    "\n",
    "df_movie_english=pd.DataFrame()\n",
    "df_movie_english= df_movies[(df_movies['vote_count']>=10)& (df_movies['vote_average'].notnull()) & (df_movies['original_language']=='en') ]\n",
    "\n",
    "df_movie_english=df_movie_english[['id','title', 'vote_count', 'vote_average','genres']]\n",
    "\n",
    "df_movie_english['year'] = pd.to_datetime(df_movies['release_date'], errors='coerce').apply(lambda x: str(x).split('-')[0] if x != np.nan else np.nan)\n",
    "df_movie_english['year'] = pd.to_datetime(df_movie_english['year'])\n",
    "df_movie_english['year']= df_movie_english['year'].astype('int64')\n",
    "df_movie_english['year']= df_movie_english['year'].astype('float64')\n",
    "\n",
    "\n",
    "# df_movie_english['tagline']=df_movie_english['tagline'].astype('string')\n",
    "df_movie_english['id']=df_movie_english['id'].astype('float64')\n",
    "def extract_genres(genres_str):\n",
    "    try:\n",
    "        genres_list = ast.literal_eval(genres_str)\n",
    "        return [genre['name'] for genre in genres_list]\n",
    "    except (SyntaxError, ValueError):\n",
    "        return None\n",
    "    \n",
    "df_movie_english[\"genres\"]= df_movie_english[\"genres\"].apply(extract_genres)\n",
    "\n",
    "# def extract_emotion(text):\n",
    "#     try:\n",
    "#         return te.get_emotion(text)\n",
    "#     except (SyntaxError, ValueError):\n",
    "#         return None\n",
    "\n",
    "#df_movie_english[\"tagline\"]= df_movie_english[\"tagline\"].apply(extract_emotion)\n",
    "# print(df_movie_english[\"tagline\"].to_string())\n",
    "df_movie_english.info(), df_ratings.info()\n",
    "\n",
    "\n"
   ]
  },
  {
   "cell_type": "code",
   "execution_count": 7,
   "metadata": {},
   "outputs": [],
   "source": [
    "# df_movie_english['tagline']=df_movie_english['tagline']\n",
    "# # Load the sentiment analysis pipeline\n",
    "# sentiment_analysis = pipeline(\"sentiment-analysis\")\n",
    "\n",
    "# def analyze_movie_tagline(tagline):\n",
    "#     # Use the sentiment analysis pipeline on the tagline\n",
    "#     result = sentiment_analysis(tagline)\n",
    "    \n",
    "#     # The result is a list of dictionaries with 'label' and 'score' keys\n",
    "#     label = result[0]['label']\n",
    "#     if label == \"NEGATIVE\"  :\n",
    "#         movie_type= 'sad ending'\n",
    "#     else:\n",
    "#         movie_type= 'happy ending'\n",
    "#     return movie_type\n",
    "\n",
    "# #df_movie_english['sentiment']=df_movie_english['tagline'].apply(analyze_movie_tagline)\n",
    "# analyze_movie_tagline(\"i feel okay\")\n"
   ]
  },
  {
   "cell_type": "code",
   "execution_count": 51,
   "metadata": {},
   "outputs": [
    {
     "name": "stdout",
     "output_type": "stream",
     "text": [
      "<class 'pandas.core.frame.DataFrame'>\n",
      "RangeIndex: 7687847 entries, 0 to 7687846\n",
      "Data columns (total 7 columns):\n",
      " #   Column        Dtype  \n",
      "---  ------        -----  \n",
      " 0   id            float64\n",
      " 1   title         string \n",
      " 2   vote_count    float64\n",
      " 3   vote_average  float64\n",
      " 4   genres        string \n",
      " 5   year          float64\n",
      " 6   rating        float64\n",
      "dtypes: float64(5), string(2)\n",
      "memory usage: 410.6 MB\n"
     ]
    }
   ],
   "source": [
    "df_ratings=df_ratings.dropna()\n",
    "df_ratings.rename(columns={'movieId':'id'},inplace=True)\n",
    "df_ratings['id']= df_ratings['id'].astype('float64')\n",
    "df_rating_1=pd.DataFrame()\n",
    "df_rating_1= df_ratings[['id', 'rating']]\n",
    "\n",
    "#df_rating_1['id']= df_rating_1['id'].drop_duplicates()\n",
    "\n",
    "df_final= pd.DataFrame()\n",
    "df_final=pd.merge(df_movie_english,df_rating_1, on= 'id', how='inner')\n",
    "# df_final=df_final.groupby('title')\n",
    "\n",
    "\n",
    "\n",
    "#converting all the values to either string or float64\n",
    "\n",
    "df_final['title']=df_final['title'].astype('string')\n",
    "df_final['genres']=df_final['genres'].astype('string')\n",
    "df_final.info()"
   ]
  },
  {
   "cell_type": "code",
   "execution_count": null,
   "metadata": {},
   "outputs": [],
   "source": []
  },
  {
   "cell_type": "code",
   "execution_count": 52,
   "metadata": {},
   "outputs": [],
   "source": [
    "df_movies_shuffled = df_final.sample(frac=1, random_state=42).reset_index(drop=True)"
   ]
  },
  {
   "cell_type": "code",
   "execution_count": 53,
   "metadata": {},
   "outputs": [],
   "source": [
    "train_df, test_and_val_df = train_test_split(df_movies_shuffled, test_size=0.4, random_state=42)\n",
    "test_df, val_df = train_test_split(test_and_val_df, test_size=0.5, random_state=42)\n"
   ]
  },
  {
   "cell_type": "code",
   "execution_count": 54,
   "metadata": {},
   "outputs": [],
   "source": [
    "\n",
    "features = ['vote_count', 'vote_average', 'rating', 'year']\n"
   ]
  },
  {
   "cell_type": "code",
   "execution_count": 55,
   "metadata": {},
   "outputs": [],
   "source": [
    "mlb = MultiLabelBinarizer()\n",
    "genre_encoded = mlb.fit_transform(df_movies_shuffled['genres'])\n",
    "genre_columns = ['genre_' + genre for genre in mlb.classes_]\n",
    "df_genres = pd.DataFrame(genre_encoded, columns=genre_columns)"
   ]
  },
  {
   "cell_type": "code",
   "execution_count": 56,
   "metadata": {},
   "outputs": [],
   "source": [
    "X_train = pd.concat([train_df[features], df_genres.iloc[train_df.index]], axis=1)\n",
    "X_test = pd.concat([test_df[features], df_genres.iloc[test_df.index]], axis=1)\n",
    "X_val = pd.concat([val_df[features], df_genres.iloc[val_df.index]], axis=1)"
   ]
  },
  {
   "cell_type": "code",
   "execution_count": 57,
   "metadata": {},
   "outputs": [
    {
     "name": "stderr",
     "output_type": "stream",
     "text": [
      "/Users/rakshekarajakumar/anaconda3/envs/ee541_hw/lib/python3.11/site-packages/sklearn/utils/validation.py:767: FutureWarning: is_sparse is deprecated and will be removed in a future version. Check `isinstance(dtype, pd.SparseDtype)` instead.\n",
      "  if not hasattr(array, \"sparse\") and array.dtypes.apply(is_sparse).any():\n",
      "/Users/rakshekarajakumar/anaconda3/envs/ee541_hw/lib/python3.11/site-packages/sklearn/utils/validation.py:605: FutureWarning: is_sparse is deprecated and will be removed in a future version. Check `isinstance(dtype, pd.SparseDtype)` instead.\n",
      "  if is_sparse(pd_dtype):\n",
      "/Users/rakshekarajakumar/anaconda3/envs/ee541_hw/lib/python3.11/site-packages/sklearn/utils/validation.py:614: FutureWarning: is_sparse is deprecated and will be removed in a future version. Check `isinstance(dtype, pd.SparseDtype)` instead.\n",
      "  if is_sparse(pd_dtype) or not is_extension_array_dtype(pd_dtype):\n",
      "/Users/rakshekarajakumar/anaconda3/envs/ee541_hw/lib/python3.11/site-packages/sklearn/utils/validation.py:767: FutureWarning: is_sparse is deprecated and will be removed in a future version. Check `isinstance(dtype, pd.SparseDtype)` instead.\n",
      "  if not hasattr(array, \"sparse\") and array.dtypes.apply(is_sparse).any():\n",
      "/Users/rakshekarajakumar/anaconda3/envs/ee541_hw/lib/python3.11/site-packages/sklearn/utils/validation.py:605: FutureWarning: is_sparse is deprecated and will be removed in a future version. Check `isinstance(dtype, pd.SparseDtype)` instead.\n",
      "  if is_sparse(pd_dtype):\n",
      "/Users/rakshekarajakumar/anaconda3/envs/ee541_hw/lib/python3.11/site-packages/sklearn/utils/validation.py:614: FutureWarning: is_sparse is deprecated and will be removed in a future version. Check `isinstance(dtype, pd.SparseDtype)` instead.\n",
      "  if is_sparse(pd_dtype) or not is_extension_array_dtype(pd_dtype):\n",
      "/Users/rakshekarajakumar/anaconda3/envs/ee541_hw/lib/python3.11/site-packages/sklearn/utils/validation.py:767: FutureWarning: is_sparse is deprecated and will be removed in a future version. Check `isinstance(dtype, pd.SparseDtype)` instead.\n",
      "  if not hasattr(array, \"sparse\") and array.dtypes.apply(is_sparse).any():\n",
      "/Users/rakshekarajakumar/anaconda3/envs/ee541_hw/lib/python3.11/site-packages/sklearn/utils/validation.py:605: FutureWarning: is_sparse is deprecated and will be removed in a future version. Check `isinstance(dtype, pd.SparseDtype)` instead.\n",
      "  if is_sparse(pd_dtype):\n",
      "/Users/rakshekarajakumar/anaconda3/envs/ee541_hw/lib/python3.11/site-packages/sklearn/utils/validation.py:614: FutureWarning: is_sparse is deprecated and will be removed in a future version. Check `isinstance(dtype, pd.SparseDtype)` instead.\n",
      "  if is_sparse(pd_dtype) or not is_extension_array_dtype(pd_dtype):\n",
      "/Users/rakshekarajakumar/anaconda3/envs/ee541_hw/lib/python3.11/site-packages/sklearn/utils/validation.py:767: FutureWarning: is_sparse is deprecated and will be removed in a future version. Check `isinstance(dtype, pd.SparseDtype)` instead.\n",
      "  if not hasattr(array, \"sparse\") and array.dtypes.apply(is_sparse).any():\n",
      "/Users/rakshekarajakumar/anaconda3/envs/ee541_hw/lib/python3.11/site-packages/sklearn/utils/validation.py:605: FutureWarning: is_sparse is deprecated and will be removed in a future version. Check `isinstance(dtype, pd.SparseDtype)` instead.\n",
      "  if is_sparse(pd_dtype):\n",
      "/Users/rakshekarajakumar/anaconda3/envs/ee541_hw/lib/python3.11/site-packages/sklearn/utils/validation.py:614: FutureWarning: is_sparse is deprecated and will be removed in a future version. Check `isinstance(dtype, pd.SparseDtype)` instead.\n",
      "  if is_sparse(pd_dtype) or not is_extension_array_dtype(pd_dtype):\n"
     ]
    }
   ],
   "source": [
    "scaler = StandardScaler()\n",
    "X_train_scaled = scaler.fit_transform(X_train)\n",
    "X_test_scaled = scaler.transform(X_test)\n",
    "X_val_scaled = scaler.transform(X_val)\n"
   ]
  },
  {
   "cell_type": "code",
   "execution_count": 58,
   "metadata": {},
   "outputs": [
    {
     "name": "stderr",
     "output_type": "stream",
     "text": [
      "/Users/rakshekarajakumar/anaconda3/envs/ee541_hw/lib/python3.11/site-packages/sklearn/cluster/_kmeans.py:870: FutureWarning: The default value of `n_init` will change from 10 to 'auto' in 1.4. Set the value of `n_init` explicitly to suppress the warning\n",
      "  warnings.warn(\n"
     ]
    }
   ],
   "source": [
    "kmeans = KMeans(n_clusters=5, random_state=42)\n",
    "train_clusters = kmeans.fit_predict(X_train_scaled)\n",
    "test_clusters = kmeans.predict(X_test_scaled)\n",
    "val_clusters = kmeans.predict(X_val_scaled)"
   ]
  },
  {
   "cell_type": "code",
   "execution_count": 59,
   "metadata": {},
   "outputs": [
    {
     "name": "stdout",
     "output_type": "stream",
     "text": [
      "             id                        title  vote_count  vote_average  \\\n",
      "4997379  5205.0                 Pumping Iron       136.0           7.0   \n",
      "6119790  1968.0                Fools Rush In       133.0           5.8   \n",
      "7473002  3981.0              What Women Want      1021.0           6.1   \n",
      "3967123   231.0                      Syriana       455.0           6.3   \n",
      "2154138   541.0  The Man with the Golden Arm        51.0           6.9   \n",
      "...         ...                          ...         ...           ...   \n",
      "4872281  8984.0                   Disclosure       217.0           5.9   \n",
      "3298402  2028.0              Say Anything...       244.0           7.2   \n",
      "6765373   931.0               Don't Look Now       197.0           7.1   \n",
      "1435750  1411.0                  The Rapture        15.0           6.4   \n",
      "1554458   858.0         Sleepless in Seattle       630.0           6.5   \n",
      "\n",
      "                                                    genres          year  \\\n",
      "4997379                                    ['Documentary']  2.209248e+17   \n",
      "6119790                     ['Drama', 'Comedy', 'Romance']  8.520768e+17   \n",
      "7473002                              ['Comedy', 'Romance']  9.466848e+17   \n",
      "3967123                              ['Drama', 'Thriller']  1.104538e+18   \n",
      "2154138                      ['Crime', 'Drama', 'Romance'] -4.733856e+17   \n",
      "...                                                    ...           ...   \n",
      "4872281  ['Drama', 'Thriller', 'Crime', 'Mystery', 'Rom...  7.573824e+17   \n",
      "3298402                     ['Comedy', 'Drama', 'Romance']  5.996160e+17   \n",
      "6765373                    ['Thriller', 'Drama', 'Horror']  9.469440e+16   \n",
      "1435750                               ['Mystery', 'Drama']  6.626880e+17   \n",
      "1554458                     ['Comedy', 'Drama', 'Romance']  7.258464e+17   \n",
      "\n",
      "         rating  cluster  \n",
      "4997379     4.0        0  \n",
      "6119790     5.0        2  \n",
      "7473002     3.5        2  \n",
      "3967123     2.0        4  \n",
      "2154138     5.0        2  \n",
      "...         ...      ...  \n",
      "4872281     4.0        4  \n",
      "3298402     5.0        2  \n",
      "6765373     3.5        4  \n",
      "1435750     4.0        4  \n",
      "1554458     4.0        2  \n",
      "\n",
      "[1537570 rows x 8 columns]\n"
     ]
    }
   ],
   "source": [
    "train_df['cluster'] = train_clusters\n",
    "test_df['cluster'] = test_clusters\n",
    "val_df['cluster'] = val_clusters\n",
    "\n",
    "print(val_df)"
   ]
  },
  {
   "cell_type": "code",
   "execution_count": 70,
   "metadata": {},
   "outputs": [
    {
     "name": "stdout",
     "output_type": "stream",
     "text": [
      "Recommendations for Movie ID 5205.0: <StringArray>\n",
      "[      'Pumping Iron',              'Klute', 'Once Were Warriors',\n",
      " 'The Great Dictator',          'The Hours']\n",
      "Length: 5, dtype: string\n"
     ]
    }
   ],
   "source": [
    "def recommend_movies(movie_id, df):\n",
    "    cluster_label = df[df['id'] == movie_id]['cluster'].values[0]\n",
    "    recommendations = df[df['cluster'] == cluster_label]['title'].unique()\n",
    "    return recommendations[:5]\n",
    "\n",
    "movie_id_to_recommend = val_df['id'].iloc[0]\n",
    "recommendations = recommend_movies(movie_id_to_recommend, val_df)\n",
    "print(f\"Recommendations for Movie ID {movie_id_to_recommend}:\", recommendations)\n"
   ]
  },
  {
   "cell_type": "code",
   "execution_count": 75,
   "metadata": {},
   "outputs": [
    {
     "name": "stdout",
     "output_type": "stream",
     "text": [
      "Recommendations for Movie Title 'Jumanji': <StringArray>\n",
      "[                                'Krull',\n",
      "                'The Poseidon Adventure',\n",
      "                           'Hard Target',\n",
      "                 'The Forbidden Kingdom',\n",
      "                       'Men in Black II',\n",
      "                  'The Astronaut Farmer',\n",
      "                 '2001: A Space Odyssey',\n",
      "                           'Bad Boys II',\n",
      "                'The Day After Tomorrow',\n",
      "                      \"Charlie's Angels\",\n",
      " ...\n",
      "                          'Tomorrowland',\n",
      "                           'All Is Lost',\n",
      "          'Marley & Me: The Puppy Years',\n",
      "                                  'Tabu',\n",
      "  'The Young and Prodigious T.S. Spivet',\n",
      "           'The Gamers: Dorkness Rising',\n",
      " 'The Hunger Games: Mockingjay - Part 2',\n",
      "       'The Hunger Games: Catching Fire',\n",
      "                    '30 Minutes or Less',\n",
      "        'Battlestar Galactica: The Plan']\n",
      "Length: 425, dtype: string\n"
     ]
    }
   ],
   "source": [
    "def recommend_movies_by_title(title, df):\n",
    "    # Check if 'cluster' column exists in the DataFrame\n",
    "    if 'cluster' not in df.columns:\n",
    "        raise ValueError(\"The 'cluster' column does not exist in the DataFrame.\")\n",
    "\n",
    "    # Extract movie ID for the specified movie title\n",
    "    try:\n",
    "        movie_id = df[df['title'] == title]['id'].values[0]\n",
    "    except IndexError:\n",
    "        raise ValueError(f\"No movie found with title '{title}' in the DataFrame.\")\n",
    "\n",
    "    # Extract cluster label for the specified movie ID\n",
    "    cluster_label = df[df['id'] == movie_id]['cluster'].values[0]\n",
    "\n",
    "    # Get recommendations based on cluster label\n",
    "    recommendations = df[df['cluster'] == cluster_label]['title'].unique()\n",
    "\n",
    "    return recommendations\n",
    "\n",
    "# Example: Recommend movies for a specific movie title entered by the user\n",
    "user_input_title = input(\"Enter a movie title: \")\n",
    "\n",
    "try:\n",
    "    recommendations = recommend_movies_by_title(user_input_title, val_df)\n",
    "    print(f\"Recommendations for Movie Title '{user_input_title}':\", recommendations)\n",
    "except ValueError as e:\n",
    "    print(e)\n"
   ]
  },
  {
   "cell_type": "code",
   "execution_count": null,
   "metadata": {},
   "outputs": [],
   "source": []
  }
 ],
 "metadata": {
  "kernelspec": {
   "display_name": "ee541_hw",
   "language": "python",
   "name": "python3"
  },
  "language_info": {
   "codemirror_mode": {
    "name": "ipython",
    "version": 3
   },
   "file_extension": ".py",
   "mimetype": "text/x-python",
   "name": "python",
   "nbconvert_exporter": "python",
   "pygments_lexer": "ipython3",
   "version": "3.11.5"
  }
 },
 "nbformat": 4,
 "nbformat_minor": 2
}
